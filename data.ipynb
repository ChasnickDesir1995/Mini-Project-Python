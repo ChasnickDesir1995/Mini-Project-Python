{
 "metadata": {
  "language_info": {
   "codemirror_mode": {
    "name": "ipython",
    "version": 3
   },
   "file_extension": ".py",
   "mimetype": "text/x-python",
   "name": "python",
   "nbconvert_exporter": "python",
   "pygments_lexer": "ipython3",
   "version": "3.8.5"
  },
  "orig_nbformat": 4,
  "kernelspec": {
   "name": "python3",
   "display_name": "Python 3.8.5 64-bit ('base': conda)"
  },
  "interpreter": {
   "hash": "e4e9227d832dc9e17768780106ce3b9f84d4a17fc850b44b5e5a05f23459cc7d"
  }
 },
 "nbformat": 4,
 "nbformat_minor": 2,
 "cells": [
  {
   "cell_type": "code",
   "execution_count": 55,
   "metadata": {},
   "outputs": [],
   "source": [
    "import numpy as np\n",
    "import pandas as pd"
   ]
  },
  {
   "cell_type": "code",
   "execution_count": 56,
   "metadata": {},
   "outputs": [],
   "source": [
    "questionnaire =  pd.read_csv(\"questionnaire.csv\")\n",
    "cols = questionnaire.columns"
   ]
  },
  {
   "cell_type": "code",
   "execution_count": 57,
   "metadata": {},
   "outputs": [
    {
     "output_type": "execute_result",
     "data": {
      "text/plain": [
       "Index(['Unnamed: 0', 'first_name', 'last_name', 'email', 'gender', 'dob',\n",
       "       'commune', 'created_at', 'modified_at', 'department', 'education_level',\n",
       "       'university', 'study_domain', 'current_employed', 'formal_sector_job',\n",
       "       'have_computer_home', 'internet_at_home', 'hear_AA_1', 'after_AA'],\n",
       "      dtype='object')"
      ]
     },
     "metadata": {},
     "execution_count": 57
    }
   ],
   "source": [
    "cols"
   ]
  },
  {
   "cell_type": "code",
   "execution_count": 58,
   "metadata": {},
   "outputs": [
    {
     "output_type": "execute_result",
     "data": {
      "text/plain": [
       "     Unnamed: 0            first_name   last_name  \\\n",
       "0             0              Clivince    Estinvil   \n",
       "1             1          Byandy Naima    Bernadin   \n",
       "2             2              Wichley     Valentin   \n",
       "3             3               Kervens  St Sauveur   \n",
       "4             4            Steevenson       Emile   \n",
       "..          ...                   ...         ...   \n",
       "245         262                Claude    COLLEGUE   \n",
       "246         263  kalinov jim rozensky      dameus   \n",
       "247         264           Kasseem Joe       CHERY   \n",
       "248         265              Nacisse    Hernsley    \n",
       "249         266       Jeffey Mackenzy        Paul   \n",
       "\n",
       "                               email  gender         dob commune  \\\n",
       "0     estinvilclivince1998@gmail.com    male  25/08/1998  ht0111   \n",
       "1    byandynaimabernadin12@gmail.com  female  29/09/1996  ht0111   \n",
       "2          wichleyvalentin@gmail.com    male  17/05/1996  ht0111   \n",
       "3            ksaintsauveur@gmail.com    male  24/11/1996  ht0111   \n",
       "4              steevensedu@gmail.com    male  20/07/1997  ht0111   \n",
       "..                               ...     ...         ...     ...   \n",
       "245       claudecollegue78@gmail.com    male  15/02/1994  ht0621   \n",
       "246             jimkalinov@gmail.com    male  08/10/1990  ht0621   \n",
       "247             joekasseem@gmail.com    male  28/12/1993  ht0621   \n",
       "248                 rnsley@gmail.com    male  17/04/1992  ht0412   \n",
       "249     pauljeffeymackenzy@gmail.com    male  22/07/1993  ht1012   \n",
       "\n",
       "                      created_at                  modified_at department  \\\n",
       "0    2021-02-14T23:03:52.768400Z  2021-02-14T23:03:52.768462Z        NaN   \n",
       "1    2021-02-16T16:01:10.861844Z  2021-02-16T16:01:10.861899Z       ht01   \n",
       "2    2021-02-16T16:56:30.579504Z  2021-02-16T16:56:30.579563Z       ht01   \n",
       "3    2021-02-16T16:57:55.754541Z  2021-02-16T16:57:55.754582Z       ht01   \n",
       "4    2021-02-16T17:05:40.907948Z  2021-02-16T17:05:40.907982Z       ht01   \n",
       "..                           ...                          ...        ...   \n",
       "245  2021-03-02T18:39:19.873194Z  2021-03-02T18:39:19.873237Z       ht06   \n",
       "246  2021-03-10T04:12:49.436154Z  2021-03-10T04:12:49.436213Z       ht06   \n",
       "247  2021-03-14T15:29:32.474015Z  2021-03-14T15:29:32.474055Z       ht06   \n",
       "248  2021-03-08T16:35:07.806100Z  2021-03-08T16:35:07.806161Z       ht04   \n",
       "249  2021-03-10T21:41:05.708748Z  2021-03-10T21:41:05.708787Z       ht10   \n",
       "\n",
       "            education_level  \\\n",
       "0                   unknown   \n",
       "1       Bachelors (bacc +4)   \n",
       "2       Bachelors (bacc +4)   \n",
       "3       Bachelors (bacc +4)   \n",
       "4    High School (16 years)   \n",
       "..                      ...   \n",
       "245     Bachelors (bacc +4)   \n",
       "246     Bachelors (bacc +4)   \n",
       "247     Bachelors (bacc +4)   \n",
       "248     Bachelors (bacc +4)   \n",
       "249                 Masters   \n",
       "\n",
       "                                            university        study_domain  \\\n",
       "0                                              unknown                  []   \n",
       "1                                                other           ['other']   \n",
       "2                      Université d'Etat d'Haïti (UEH)                  []   \n",
       "3       Ecole Supérieure d'Infotronique d'Haïti (ESIH)  ['item1', 'item6']   \n",
       "4                                              unknown           ['other']   \n",
       "..                                                 ...                 ...   \n",
       "245                                              other           ['other']   \n",
       "246                    Université d'Etat d'Haïti (UEH)           ['item8']   \n",
       "247  Centre de Techniques de Planification et d'Eco...           ['item2']   \n",
       "248                                              other           ['item1']   \n",
       "249                                              other           ['other']   \n",
       "\n",
       "    current_employed formal_sector_job have_computer_home internet_at_home  \\\n",
       "0            unknown           unknown            unknown          unknown   \n",
       "1                 No           unknown                Yes              Yes   \n",
       "2                 No           unknown                Yes              Yes   \n",
       "3                 No           unknown                Yes              Yes   \n",
       "4                 No           unknown                Yes              Yes   \n",
       "..               ...               ...                ...              ...   \n",
       "245              Yes               Yes                Yes              Yes   \n",
       "246              Yes               Yes                Yes              Yes   \n",
       "247              Yes               Yes                Yes              Yes   \n",
       "248               No           unknown                Yes              Yes   \n",
       "249               No           unknown                Yes              Yes   \n",
       "\n",
       "    hear_AA_1                           after_AA  \n",
       "0     unknown                            unknown  \n",
       "1      Friend           Finding a job/internship  \n",
       "2      Friend  Improving my data analysis skills  \n",
       "3        ESIH  Improving my data analysis skills  \n",
       "4    WhatsApp                         Mentorship  \n",
       "..        ...                                ...  \n",
       "245  Facebook  Improving my data analysis skills  \n",
       "246    Friend  Improving my data analysis skills  \n",
       "247    Friend  Improving my data analysis skills  \n",
       "248  Facebook  Improving my data analysis skills  \n",
       "249  Facebook  Improving my data analysis skills  \n",
       "\n",
       "[250 rows x 19 columns]"
      ],
      "text/html": "<div>\n<style scoped>\n    .dataframe tbody tr th:only-of-type {\n        vertical-align: middle;\n    }\n\n    .dataframe tbody tr th {\n        vertical-align: top;\n    }\n\n    .dataframe thead th {\n        text-align: right;\n    }\n</style>\n<table border=\"1\" class=\"dataframe\">\n  <thead>\n    <tr style=\"text-align: right;\">\n      <th></th>\n      <th>Unnamed: 0</th>\n      <th>first_name</th>\n      <th>last_name</th>\n      <th>email</th>\n      <th>gender</th>\n      <th>dob</th>\n      <th>commune</th>\n      <th>created_at</th>\n      <th>modified_at</th>\n      <th>department</th>\n      <th>education_level</th>\n      <th>university</th>\n      <th>study_domain</th>\n      <th>current_employed</th>\n      <th>formal_sector_job</th>\n      <th>have_computer_home</th>\n      <th>internet_at_home</th>\n      <th>hear_AA_1</th>\n      <th>after_AA</th>\n    </tr>\n  </thead>\n  <tbody>\n    <tr>\n      <th>0</th>\n      <td>0</td>\n      <td>Clivince</td>\n      <td>Estinvil</td>\n      <td>estinvilclivince1998@gmail.com</td>\n      <td>male</td>\n      <td>25/08/1998</td>\n      <td>ht0111</td>\n      <td>2021-02-14T23:03:52.768400Z</td>\n      <td>2021-02-14T23:03:52.768462Z</td>\n      <td>NaN</td>\n      <td>unknown</td>\n      <td>unknown</td>\n      <td>[]</td>\n      <td>unknown</td>\n      <td>unknown</td>\n      <td>unknown</td>\n      <td>unknown</td>\n      <td>unknown</td>\n      <td>unknown</td>\n    </tr>\n    <tr>\n      <th>1</th>\n      <td>1</td>\n      <td>Byandy Naima</td>\n      <td>Bernadin</td>\n      <td>byandynaimabernadin12@gmail.com</td>\n      <td>female</td>\n      <td>29/09/1996</td>\n      <td>ht0111</td>\n      <td>2021-02-16T16:01:10.861844Z</td>\n      <td>2021-02-16T16:01:10.861899Z</td>\n      <td>ht01</td>\n      <td>Bachelors (bacc +4)</td>\n      <td>other</td>\n      <td>['other']</td>\n      <td>No</td>\n      <td>unknown</td>\n      <td>Yes</td>\n      <td>Yes</td>\n      <td>Friend</td>\n      <td>Finding a job/internship</td>\n    </tr>\n    <tr>\n      <th>2</th>\n      <td>2</td>\n      <td>Wichley</td>\n      <td>Valentin</td>\n      <td>wichleyvalentin@gmail.com</td>\n      <td>male</td>\n      <td>17/05/1996</td>\n      <td>ht0111</td>\n      <td>2021-02-16T16:56:30.579504Z</td>\n      <td>2021-02-16T16:56:30.579563Z</td>\n      <td>ht01</td>\n      <td>Bachelors (bacc +4)</td>\n      <td>Université d'Etat d'Haïti (UEH)</td>\n      <td>[]</td>\n      <td>No</td>\n      <td>unknown</td>\n      <td>Yes</td>\n      <td>Yes</td>\n      <td>Friend</td>\n      <td>Improving my data analysis skills</td>\n    </tr>\n    <tr>\n      <th>3</th>\n      <td>3</td>\n      <td>Kervens</td>\n      <td>St Sauveur</td>\n      <td>ksaintsauveur@gmail.com</td>\n      <td>male</td>\n      <td>24/11/1996</td>\n      <td>ht0111</td>\n      <td>2021-02-16T16:57:55.754541Z</td>\n      <td>2021-02-16T16:57:55.754582Z</td>\n      <td>ht01</td>\n      <td>Bachelors (bacc +4)</td>\n      <td>Ecole Supérieure d'Infotronique d'Haïti (ESIH)</td>\n      <td>['item1', 'item6']</td>\n      <td>No</td>\n      <td>unknown</td>\n      <td>Yes</td>\n      <td>Yes</td>\n      <td>ESIH</td>\n      <td>Improving my data analysis skills</td>\n    </tr>\n    <tr>\n      <th>4</th>\n      <td>4</td>\n      <td>Steevenson</td>\n      <td>Emile</td>\n      <td>steevensedu@gmail.com</td>\n      <td>male</td>\n      <td>20/07/1997</td>\n      <td>ht0111</td>\n      <td>2021-02-16T17:05:40.907948Z</td>\n      <td>2021-02-16T17:05:40.907982Z</td>\n      <td>ht01</td>\n      <td>High School (16 years)</td>\n      <td>unknown</td>\n      <td>['other']</td>\n      <td>No</td>\n      <td>unknown</td>\n      <td>Yes</td>\n      <td>Yes</td>\n      <td>WhatsApp</td>\n      <td>Mentorship</td>\n    </tr>\n    <tr>\n      <th>...</th>\n      <td>...</td>\n      <td>...</td>\n      <td>...</td>\n      <td>...</td>\n      <td>...</td>\n      <td>...</td>\n      <td>...</td>\n      <td>...</td>\n      <td>...</td>\n      <td>...</td>\n      <td>...</td>\n      <td>...</td>\n      <td>...</td>\n      <td>...</td>\n      <td>...</td>\n      <td>...</td>\n      <td>...</td>\n      <td>...</td>\n      <td>...</td>\n    </tr>\n    <tr>\n      <th>245</th>\n      <td>262</td>\n      <td>Claude</td>\n      <td>COLLEGUE</td>\n      <td>claudecollegue78@gmail.com</td>\n      <td>male</td>\n      <td>15/02/1994</td>\n      <td>ht0621</td>\n      <td>2021-03-02T18:39:19.873194Z</td>\n      <td>2021-03-02T18:39:19.873237Z</td>\n      <td>ht06</td>\n      <td>Bachelors (bacc +4)</td>\n      <td>other</td>\n      <td>['other']</td>\n      <td>Yes</td>\n      <td>Yes</td>\n      <td>Yes</td>\n      <td>Yes</td>\n      <td>Facebook</td>\n      <td>Improving my data analysis skills</td>\n    </tr>\n    <tr>\n      <th>246</th>\n      <td>263</td>\n      <td>kalinov jim rozensky</td>\n      <td>dameus</td>\n      <td>jimkalinov@gmail.com</td>\n      <td>male</td>\n      <td>08/10/1990</td>\n      <td>ht0621</td>\n      <td>2021-03-10T04:12:49.436154Z</td>\n      <td>2021-03-10T04:12:49.436213Z</td>\n      <td>ht06</td>\n      <td>Bachelors (bacc +4)</td>\n      <td>Université d'Etat d'Haïti (UEH)</td>\n      <td>['item8']</td>\n      <td>Yes</td>\n      <td>Yes</td>\n      <td>Yes</td>\n      <td>Yes</td>\n      <td>Friend</td>\n      <td>Improving my data analysis skills</td>\n    </tr>\n    <tr>\n      <th>247</th>\n      <td>264</td>\n      <td>Kasseem Joe</td>\n      <td>CHERY</td>\n      <td>joekasseem@gmail.com</td>\n      <td>male</td>\n      <td>28/12/1993</td>\n      <td>ht0621</td>\n      <td>2021-03-14T15:29:32.474015Z</td>\n      <td>2021-03-14T15:29:32.474055Z</td>\n      <td>ht06</td>\n      <td>Bachelors (bacc +4)</td>\n      <td>Centre de Techniques de Planification et d'Eco...</td>\n      <td>['item2']</td>\n      <td>Yes</td>\n      <td>Yes</td>\n      <td>Yes</td>\n      <td>Yes</td>\n      <td>Friend</td>\n      <td>Improving my data analysis skills</td>\n    </tr>\n    <tr>\n      <th>248</th>\n      <td>265</td>\n      <td>Nacisse</td>\n      <td>Hernsley</td>\n      <td>rnsley@gmail.com</td>\n      <td>male</td>\n      <td>17/04/1992</td>\n      <td>ht0412</td>\n      <td>2021-03-08T16:35:07.806100Z</td>\n      <td>2021-03-08T16:35:07.806161Z</td>\n      <td>ht04</td>\n      <td>Bachelors (bacc +4)</td>\n      <td>other</td>\n      <td>['item1']</td>\n      <td>No</td>\n      <td>unknown</td>\n      <td>Yes</td>\n      <td>Yes</td>\n      <td>Facebook</td>\n      <td>Improving my data analysis skills</td>\n    </tr>\n    <tr>\n      <th>249</th>\n      <td>266</td>\n      <td>Jeffey Mackenzy</td>\n      <td>Paul</td>\n      <td>pauljeffeymackenzy@gmail.com</td>\n      <td>male</td>\n      <td>22/07/1993</td>\n      <td>ht1012</td>\n      <td>2021-03-10T21:41:05.708748Z</td>\n      <td>2021-03-10T21:41:05.708787Z</td>\n      <td>ht10</td>\n      <td>Masters</td>\n      <td>other</td>\n      <td>['other']</td>\n      <td>No</td>\n      <td>unknown</td>\n      <td>Yes</td>\n      <td>Yes</td>\n      <td>Facebook</td>\n      <td>Improving my data analysis skills</td>\n    </tr>\n  </tbody>\n</table>\n<p>250 rows × 19 columns</p>\n</div>"
     },
     "metadata": {},
     "execution_count": 58
    }
   ],
   "source": [
    "questionnaire"
   ]
  },
  {
   "cell_type": "code",
   "execution_count": 59,
   "metadata": {},
   "outputs": [],
   "source": [
    "import uuid"
   ]
  },
  {
   "cell_type": "code",
   "execution_count": 60,
   "metadata": {},
   "outputs": [
    {
     "output_type": "execute_result",
     "data": {
      "text/plain": [
       "'8fa3a4c4-ce95-11eb-ae31-7c67a234f601'"
      ]
     },
     "metadata": {},
     "execution_count": 60
    }
   ],
   "source": [
    "str(uuid.uuid1())"
   ]
  },
  {
   "cell_type": "code",
   "execution_count": 61,
   "metadata": {},
   "outputs": [],
   "source": [
    "questionnaire[\"quest_id\"] = np.nan"
   ]
  },
  {
   "cell_type": "code",
   "execution_count": 62,
   "metadata": {},
   "outputs": [],
   "source": [
    "for index in range(questionnaire.shape[0]):\n",
    "    questionnaire.loc[index,\"quest_id\"] = str(uuid.uuid1())\n"
   ]
  },
  {
   "cell_type": "code",
   "execution_count": 63,
   "metadata": {},
   "outputs": [
    {
     "output_type": "execute_result",
     "data": {
      "text/plain": [
       "0      905dc006-ce95-11eb-b2f9-7c67a234f601\n",
       "1      905ddcf2-ce95-11eb-9a92-7c67a234f601\n",
       "2      905e2608-ce95-11eb-809f-7c67a234f601\n",
       "3      905e4cf5-ce95-11eb-96a9-7c67a234f601\n",
       "4      905e73fd-ce95-11eb-a7b0-7c67a234f601\n",
       "                       ...                 \n",
       "245    906b3c84-ce95-11eb-8c2a-7c67a234f601\n",
       "246    906b3c85-ce95-11eb-9b87-7c67a234f601\n",
       "247    906b3c86-ce95-11eb-b6a7-7c67a234f601\n",
       "248    906b65e2-ce95-11eb-8b5c-7c67a234f601\n",
       "249    906b65e3-ce95-11eb-a294-7c67a234f601\n",
       "Name: quest_id, Length: 250, dtype: object"
      ]
     },
     "metadata": {},
     "execution_count": 63
    }
   ],
   "source": [
    " questionnaire.loc[:,\"quest_id\"] "
   ]
  },
  {
   "cell_type": "code",
   "execution_count": 64,
   "metadata": {},
   "outputs": [],
   "source": [
    "quest = questionnaire.drop(columns=[\"Unnamed: 0\",\"first_name\",\"last_name\"])"
   ]
  },
  {
   "cell_type": "code",
   "execution_count": 65,
   "metadata": {},
   "outputs": [
    {
     "output_type": "execute_result",
     "data": {
      "text/plain": [
       "                               email  gender         dob commune  \\\n",
       "0     estinvilclivince1998@gmail.com    male  25/08/1998  ht0111   \n",
       "1    byandynaimabernadin12@gmail.com  female  29/09/1996  ht0111   \n",
       "2          wichleyvalentin@gmail.com    male  17/05/1996  ht0111   \n",
       "3            ksaintsauveur@gmail.com    male  24/11/1996  ht0111   \n",
       "4              steevensedu@gmail.com    male  20/07/1997  ht0111   \n",
       "..                               ...     ...         ...     ...   \n",
       "245       claudecollegue78@gmail.com    male  15/02/1994  ht0621   \n",
       "246             jimkalinov@gmail.com    male  08/10/1990  ht0621   \n",
       "247             joekasseem@gmail.com    male  28/12/1993  ht0621   \n",
       "248                 rnsley@gmail.com    male  17/04/1992  ht0412   \n",
       "249     pauljeffeymackenzy@gmail.com    male  22/07/1993  ht1012   \n",
       "\n",
       "                      created_at                  modified_at department  \\\n",
       "0    2021-02-14T23:03:52.768400Z  2021-02-14T23:03:52.768462Z        NaN   \n",
       "1    2021-02-16T16:01:10.861844Z  2021-02-16T16:01:10.861899Z       ht01   \n",
       "2    2021-02-16T16:56:30.579504Z  2021-02-16T16:56:30.579563Z       ht01   \n",
       "3    2021-02-16T16:57:55.754541Z  2021-02-16T16:57:55.754582Z       ht01   \n",
       "4    2021-02-16T17:05:40.907948Z  2021-02-16T17:05:40.907982Z       ht01   \n",
       "..                           ...                          ...        ...   \n",
       "245  2021-03-02T18:39:19.873194Z  2021-03-02T18:39:19.873237Z       ht06   \n",
       "246  2021-03-10T04:12:49.436154Z  2021-03-10T04:12:49.436213Z       ht06   \n",
       "247  2021-03-14T15:29:32.474015Z  2021-03-14T15:29:32.474055Z       ht06   \n",
       "248  2021-03-08T16:35:07.806100Z  2021-03-08T16:35:07.806161Z       ht04   \n",
       "249  2021-03-10T21:41:05.708748Z  2021-03-10T21:41:05.708787Z       ht10   \n",
       "\n",
       "            education_level  \\\n",
       "0                   unknown   \n",
       "1       Bachelors (bacc +4)   \n",
       "2       Bachelors (bacc +4)   \n",
       "3       Bachelors (bacc +4)   \n",
       "4    High School (16 years)   \n",
       "..                      ...   \n",
       "245     Bachelors (bacc +4)   \n",
       "246     Bachelors (bacc +4)   \n",
       "247     Bachelors (bacc +4)   \n",
       "248     Bachelors (bacc +4)   \n",
       "249                 Masters   \n",
       "\n",
       "                                            university        study_domain  \\\n",
       "0                                              unknown                  []   \n",
       "1                                                other           ['other']   \n",
       "2                      Université d'Etat d'Haïti (UEH)                  []   \n",
       "3       Ecole Supérieure d'Infotronique d'Haïti (ESIH)  ['item1', 'item6']   \n",
       "4                                              unknown           ['other']   \n",
       "..                                                 ...                 ...   \n",
       "245                                              other           ['other']   \n",
       "246                    Université d'Etat d'Haïti (UEH)           ['item8']   \n",
       "247  Centre de Techniques de Planification et d'Eco...           ['item2']   \n",
       "248                                              other           ['item1']   \n",
       "249                                              other           ['other']   \n",
       "\n",
       "    current_employed formal_sector_job have_computer_home internet_at_home  \\\n",
       "0            unknown           unknown            unknown          unknown   \n",
       "1                 No           unknown                Yes              Yes   \n",
       "2                 No           unknown                Yes              Yes   \n",
       "3                 No           unknown                Yes              Yes   \n",
       "4                 No           unknown                Yes              Yes   \n",
       "..               ...               ...                ...              ...   \n",
       "245              Yes               Yes                Yes              Yes   \n",
       "246              Yes               Yes                Yes              Yes   \n",
       "247              Yes               Yes                Yes              Yes   \n",
       "248               No           unknown                Yes              Yes   \n",
       "249               No           unknown                Yes              Yes   \n",
       "\n",
       "    hear_AA_1                           after_AA  \\\n",
       "0     unknown                            unknown   \n",
       "1      Friend           Finding a job/internship   \n",
       "2      Friend  Improving my data analysis skills   \n",
       "3        ESIH  Improving my data analysis skills   \n",
       "4    WhatsApp                         Mentorship   \n",
       "..        ...                                ...   \n",
       "245  Facebook  Improving my data analysis skills   \n",
       "246    Friend  Improving my data analysis skills   \n",
       "247    Friend  Improving my data analysis skills   \n",
       "248  Facebook  Improving my data analysis skills   \n",
       "249  Facebook  Improving my data analysis skills   \n",
       "\n",
       "                                 quest_id  \n",
       "0    905dc006-ce95-11eb-b2f9-7c67a234f601  \n",
       "1    905ddcf2-ce95-11eb-9a92-7c67a234f601  \n",
       "2    905e2608-ce95-11eb-809f-7c67a234f601  \n",
       "3    905e4cf5-ce95-11eb-96a9-7c67a234f601  \n",
       "4    905e73fd-ce95-11eb-a7b0-7c67a234f601  \n",
       "..                                    ...  \n",
       "245  906b3c84-ce95-11eb-8c2a-7c67a234f601  \n",
       "246  906b3c85-ce95-11eb-9b87-7c67a234f601  \n",
       "247  906b3c86-ce95-11eb-b6a7-7c67a234f601  \n",
       "248  906b65e2-ce95-11eb-8b5c-7c67a234f601  \n",
       "249  906b65e3-ce95-11eb-a294-7c67a234f601  \n",
       "\n",
       "[250 rows x 17 columns]"
      ],
      "text/html": "<div>\n<style scoped>\n    .dataframe tbody tr th:only-of-type {\n        vertical-align: middle;\n    }\n\n    .dataframe tbody tr th {\n        vertical-align: top;\n    }\n\n    .dataframe thead th {\n        text-align: right;\n    }\n</style>\n<table border=\"1\" class=\"dataframe\">\n  <thead>\n    <tr style=\"text-align: right;\">\n      <th></th>\n      <th>email</th>\n      <th>gender</th>\n      <th>dob</th>\n      <th>commune</th>\n      <th>created_at</th>\n      <th>modified_at</th>\n      <th>department</th>\n      <th>education_level</th>\n      <th>university</th>\n      <th>study_domain</th>\n      <th>current_employed</th>\n      <th>formal_sector_job</th>\n      <th>have_computer_home</th>\n      <th>internet_at_home</th>\n      <th>hear_AA_1</th>\n      <th>after_AA</th>\n      <th>quest_id</th>\n    </tr>\n  </thead>\n  <tbody>\n    <tr>\n      <th>0</th>\n      <td>estinvilclivince1998@gmail.com</td>\n      <td>male</td>\n      <td>25/08/1998</td>\n      <td>ht0111</td>\n      <td>2021-02-14T23:03:52.768400Z</td>\n      <td>2021-02-14T23:03:52.768462Z</td>\n      <td>NaN</td>\n      <td>unknown</td>\n      <td>unknown</td>\n      <td>[]</td>\n      <td>unknown</td>\n      <td>unknown</td>\n      <td>unknown</td>\n      <td>unknown</td>\n      <td>unknown</td>\n      <td>unknown</td>\n      <td>905dc006-ce95-11eb-b2f9-7c67a234f601</td>\n    </tr>\n    <tr>\n      <th>1</th>\n      <td>byandynaimabernadin12@gmail.com</td>\n      <td>female</td>\n      <td>29/09/1996</td>\n      <td>ht0111</td>\n      <td>2021-02-16T16:01:10.861844Z</td>\n      <td>2021-02-16T16:01:10.861899Z</td>\n      <td>ht01</td>\n      <td>Bachelors (bacc +4)</td>\n      <td>other</td>\n      <td>['other']</td>\n      <td>No</td>\n      <td>unknown</td>\n      <td>Yes</td>\n      <td>Yes</td>\n      <td>Friend</td>\n      <td>Finding a job/internship</td>\n      <td>905ddcf2-ce95-11eb-9a92-7c67a234f601</td>\n    </tr>\n    <tr>\n      <th>2</th>\n      <td>wichleyvalentin@gmail.com</td>\n      <td>male</td>\n      <td>17/05/1996</td>\n      <td>ht0111</td>\n      <td>2021-02-16T16:56:30.579504Z</td>\n      <td>2021-02-16T16:56:30.579563Z</td>\n      <td>ht01</td>\n      <td>Bachelors (bacc +4)</td>\n      <td>Université d'Etat d'Haïti (UEH)</td>\n      <td>[]</td>\n      <td>No</td>\n      <td>unknown</td>\n      <td>Yes</td>\n      <td>Yes</td>\n      <td>Friend</td>\n      <td>Improving my data analysis skills</td>\n      <td>905e2608-ce95-11eb-809f-7c67a234f601</td>\n    </tr>\n    <tr>\n      <th>3</th>\n      <td>ksaintsauveur@gmail.com</td>\n      <td>male</td>\n      <td>24/11/1996</td>\n      <td>ht0111</td>\n      <td>2021-02-16T16:57:55.754541Z</td>\n      <td>2021-02-16T16:57:55.754582Z</td>\n      <td>ht01</td>\n      <td>Bachelors (bacc +4)</td>\n      <td>Ecole Supérieure d'Infotronique d'Haïti (ESIH)</td>\n      <td>['item1', 'item6']</td>\n      <td>No</td>\n      <td>unknown</td>\n      <td>Yes</td>\n      <td>Yes</td>\n      <td>ESIH</td>\n      <td>Improving my data analysis skills</td>\n      <td>905e4cf5-ce95-11eb-96a9-7c67a234f601</td>\n    </tr>\n    <tr>\n      <th>4</th>\n      <td>steevensedu@gmail.com</td>\n      <td>male</td>\n      <td>20/07/1997</td>\n      <td>ht0111</td>\n      <td>2021-02-16T17:05:40.907948Z</td>\n      <td>2021-02-16T17:05:40.907982Z</td>\n      <td>ht01</td>\n      <td>High School (16 years)</td>\n      <td>unknown</td>\n      <td>['other']</td>\n      <td>No</td>\n      <td>unknown</td>\n      <td>Yes</td>\n      <td>Yes</td>\n      <td>WhatsApp</td>\n      <td>Mentorship</td>\n      <td>905e73fd-ce95-11eb-a7b0-7c67a234f601</td>\n    </tr>\n    <tr>\n      <th>...</th>\n      <td>...</td>\n      <td>...</td>\n      <td>...</td>\n      <td>...</td>\n      <td>...</td>\n      <td>...</td>\n      <td>...</td>\n      <td>...</td>\n      <td>...</td>\n      <td>...</td>\n      <td>...</td>\n      <td>...</td>\n      <td>...</td>\n      <td>...</td>\n      <td>...</td>\n      <td>...</td>\n      <td>...</td>\n    </tr>\n    <tr>\n      <th>245</th>\n      <td>claudecollegue78@gmail.com</td>\n      <td>male</td>\n      <td>15/02/1994</td>\n      <td>ht0621</td>\n      <td>2021-03-02T18:39:19.873194Z</td>\n      <td>2021-03-02T18:39:19.873237Z</td>\n      <td>ht06</td>\n      <td>Bachelors (bacc +4)</td>\n      <td>other</td>\n      <td>['other']</td>\n      <td>Yes</td>\n      <td>Yes</td>\n      <td>Yes</td>\n      <td>Yes</td>\n      <td>Facebook</td>\n      <td>Improving my data analysis skills</td>\n      <td>906b3c84-ce95-11eb-8c2a-7c67a234f601</td>\n    </tr>\n    <tr>\n      <th>246</th>\n      <td>jimkalinov@gmail.com</td>\n      <td>male</td>\n      <td>08/10/1990</td>\n      <td>ht0621</td>\n      <td>2021-03-10T04:12:49.436154Z</td>\n      <td>2021-03-10T04:12:49.436213Z</td>\n      <td>ht06</td>\n      <td>Bachelors (bacc +4)</td>\n      <td>Université d'Etat d'Haïti (UEH)</td>\n      <td>['item8']</td>\n      <td>Yes</td>\n      <td>Yes</td>\n      <td>Yes</td>\n      <td>Yes</td>\n      <td>Friend</td>\n      <td>Improving my data analysis skills</td>\n      <td>906b3c85-ce95-11eb-9b87-7c67a234f601</td>\n    </tr>\n    <tr>\n      <th>247</th>\n      <td>joekasseem@gmail.com</td>\n      <td>male</td>\n      <td>28/12/1993</td>\n      <td>ht0621</td>\n      <td>2021-03-14T15:29:32.474015Z</td>\n      <td>2021-03-14T15:29:32.474055Z</td>\n      <td>ht06</td>\n      <td>Bachelors (bacc +4)</td>\n      <td>Centre de Techniques de Planification et d'Eco...</td>\n      <td>['item2']</td>\n      <td>Yes</td>\n      <td>Yes</td>\n      <td>Yes</td>\n      <td>Yes</td>\n      <td>Friend</td>\n      <td>Improving my data analysis skills</td>\n      <td>906b3c86-ce95-11eb-b6a7-7c67a234f601</td>\n    </tr>\n    <tr>\n      <th>248</th>\n      <td>rnsley@gmail.com</td>\n      <td>male</td>\n      <td>17/04/1992</td>\n      <td>ht0412</td>\n      <td>2021-03-08T16:35:07.806100Z</td>\n      <td>2021-03-08T16:35:07.806161Z</td>\n      <td>ht04</td>\n      <td>Bachelors (bacc +4)</td>\n      <td>other</td>\n      <td>['item1']</td>\n      <td>No</td>\n      <td>unknown</td>\n      <td>Yes</td>\n      <td>Yes</td>\n      <td>Facebook</td>\n      <td>Improving my data analysis skills</td>\n      <td>906b65e2-ce95-11eb-8b5c-7c67a234f601</td>\n    </tr>\n    <tr>\n      <th>249</th>\n      <td>pauljeffeymackenzy@gmail.com</td>\n      <td>male</td>\n      <td>22/07/1993</td>\n      <td>ht1012</td>\n      <td>2021-03-10T21:41:05.708748Z</td>\n      <td>2021-03-10T21:41:05.708787Z</td>\n      <td>ht10</td>\n      <td>Masters</td>\n      <td>other</td>\n      <td>['other']</td>\n      <td>No</td>\n      <td>unknown</td>\n      <td>Yes</td>\n      <td>Yes</td>\n      <td>Facebook</td>\n      <td>Improving my data analysis skills</td>\n      <td>906b65e3-ce95-11eb-a294-7c67a234f601</td>\n    </tr>\n  </tbody>\n</table>\n<p>250 rows × 17 columns</p>\n</div>"
     },
     "metadata": {},
     "execution_count": 65
    }
   ],
   "source": [
    "quest"
   ]
  },
  {
   "cell_type": "code",
   "execution_count": 78,
   "metadata": {},
   "outputs": [],
   "source": [
    "enroll = pd.read_csv(\"enrollment.csv\")\n",
    "enroll = pd.merge(left=enroll,right =quest[[\"quest_id\",\"email\"]],how=\"left\",left_on=\"user_email\",right_on=\"email\")"
   ]
  },
  {
   "cell_type": "code",
   "execution_count": 79,
   "metadata": {},
   "outputs": [],
   "source": [
    "enroll = enroll.drop(columns=[\"Unnamed: 0\",\"email\",\"id\"])"
   ]
  },
  {
   "cell_type": "code",
   "execution_count": 80,
   "metadata": {},
   "outputs": [
    {
     "output_type": "execute_result",
     "data": {
      "text/plain": [
       "                   created_at                     user_email  \\\n",
       "0    2020-12-12T06:41:29.844Z      marvelfdsamazon@gmail.com   \n",
       "1    2020-12-13T14:41:17.720Z      samueljoseph014@gmail.com   \n",
       "2    2020-12-15T00:53:06.499Z         hectorvehuel@gmail.com   \n",
       "3    2020-12-18T18:38:55.683Z      champagne.randy@gmail.com   \n",
       "4    2020-12-21T14:45:06.528Z  ealexandre@anseyepouayiti.org   \n",
       "..                        ...                            ...   \n",
       "143  2021-03-14T02:16:08.736Z   pauljeffeymackenzy@gmail.com   \n",
       "144  2021-03-14T04:20:30.803Z        ssaintlouis99@gmail.com   \n",
       "145  2021-03-14T07:34:09.491Z         davidlouis301@yahoo.fr   \n",
       "146  2021-03-14T15:34:39.800Z           joekasseem@gmail.com   \n",
       "147  2021-03-14T17:34:44.861Z       josephobed2016@gmail.com   \n",
       "\n",
       "                 user_name               expiry_date   user_id  \\\n",
       "0            Yvel Marcelin                       NaN  29816173   \n",
       "1            Samuel Joseph                       NaN  35229766   \n",
       "2            Vehuel Hector                       NaN  31987560   \n",
       "3          Randy Champagne                       NaN  35616451   \n",
       "4       ALEXANDRE Emmanuel                       NaN  35390649   \n",
       "..                     ...                       ...       ...   \n",
       "143  Jeffey Mackenzy  Paul  2071-03-02T02:16:55.000Z  41508160   \n",
       "144    STANLEY SAINT LOUIS                       NaN  41564742   \n",
       "145            David Louis  2071-03-02T07:34:26.000Z  41569249   \n",
       "146      Kasseem Joe CHERY                       NaN  41587952   \n",
       "147   Obed Charlot  Joseph  2071-03-02T17:34:52.000Z  41592698   \n",
       "\n",
       "                     course_name  course_id  percentage_completed  \\\n",
       "0    Entwodiksyon Nan Syans Done    1047613              0.000000   \n",
       "1    Entwodiksyon Nan Syans Done    1047613              0.000000   \n",
       "2    Entwodiksyon Nan Syans Done    1047613              0.000000   \n",
       "3    Entwodiksyon Nan Syans Done    1047613              0.000000   \n",
       "4    Entwodiksyon Nan Syans Done    1047613              0.000000   \n",
       "..                           ...        ...                   ...   \n",
       "143  Entwodiksyon Nan Syans Done    1047613              0.279070   \n",
       "144  Entwodiksyon Nan Syans Done    1047613              0.023256   \n",
       "145  Entwodiksyon Nan Syans Done    1047613              0.000000   \n",
       "146  Entwodiksyon Nan Syans Done    1047613              0.325581   \n",
       "147  Entwodiksyon Nan Syans Done    1047613              0.046512   \n",
       "\n",
       "     completed_at  expired  is_free_trial  completed  \\\n",
       "0             NaN    False           True      False   \n",
       "1             NaN    False           True      False   \n",
       "2             NaN    False           True      False   \n",
       "3             NaN    False           True      False   \n",
       "4             NaN    False           True      False   \n",
       "..            ...      ...            ...        ...   \n",
       "143           NaN    False          False      False   \n",
       "144           NaN    False          False      False   \n",
       "145           NaN    False          False      False   \n",
       "146           NaN    False          False      False   \n",
       "147           NaN    False          False      False   \n",
       "\n",
       "                   started_at              activated_at  \\\n",
       "0                         NaN                       NaN   \n",
       "1                         NaN                       NaN   \n",
       "2                         NaN                       NaN   \n",
       "3                         NaN                       NaN   \n",
       "4                         NaN                       NaN   \n",
       "..                        ...                       ...   \n",
       "143  2021-03-14T02:18:52.472Z  2021-03-14T02:16:08.000Z   \n",
       "144  2021-03-14T04:22:12.626Z  2021-03-14T04:20:30.786Z   \n",
       "145                       NaN  2021-03-14T07:34:09.000Z   \n",
       "146  2021-03-14T15:34:56.007Z  2021-03-14T15:34:39.768Z   \n",
       "147  2021-03-14T17:36:13.505Z  2021-03-14T17:34:44.000Z   \n",
       "\n",
       "                   updated_at                              quest_id  \n",
       "0    2020-12-12T06:41:29.844Z                                   NaN  \n",
       "1    2020-12-13T14:41:17.720Z                                   NaN  \n",
       "2    2020-12-15T00:53:06.499Z                                   NaN  \n",
       "3    2020-12-18T18:38:55.683Z                                   NaN  \n",
       "4    2020-12-21T14:45:06.528Z                                   NaN  \n",
       "..                        ...                                   ...  \n",
       "143  2021-03-14T03:32:18.768Z  906b65e3-ce95-11eb-a294-7c67a234f601  \n",
       "144  2021-03-14T04:48:39.798Z  906636cf-ce95-11eb-8679-7c67a234f601  \n",
       "145  2021-03-14T07:34:26.558Z  906241d5-ce95-11eb-9850-7c67a234f601  \n",
       "146  2021-03-14T17:30:53.379Z  906b3c86-ce95-11eb-b6a7-7c67a234f601  \n",
       "147  2021-03-14T17:39:40.547Z                                   NaN  \n",
       "\n",
       "[148 rows x 16 columns]"
      ],
      "text/html": "<div>\n<style scoped>\n    .dataframe tbody tr th:only-of-type {\n        vertical-align: middle;\n    }\n\n    .dataframe tbody tr th {\n        vertical-align: top;\n    }\n\n    .dataframe thead th {\n        text-align: right;\n    }\n</style>\n<table border=\"1\" class=\"dataframe\">\n  <thead>\n    <tr style=\"text-align: right;\">\n      <th></th>\n      <th>created_at</th>\n      <th>user_email</th>\n      <th>user_name</th>\n      <th>expiry_date</th>\n      <th>user_id</th>\n      <th>course_name</th>\n      <th>course_id</th>\n      <th>percentage_completed</th>\n      <th>completed_at</th>\n      <th>expired</th>\n      <th>is_free_trial</th>\n      <th>completed</th>\n      <th>started_at</th>\n      <th>activated_at</th>\n      <th>updated_at</th>\n      <th>quest_id</th>\n    </tr>\n  </thead>\n  <tbody>\n    <tr>\n      <th>0</th>\n      <td>2020-12-12T06:41:29.844Z</td>\n      <td>marvelfdsamazon@gmail.com</td>\n      <td>Yvel Marcelin</td>\n      <td>NaN</td>\n      <td>29816173</td>\n      <td>Entwodiksyon Nan Syans Done</td>\n      <td>1047613</td>\n      <td>0.000000</td>\n      <td>NaN</td>\n      <td>False</td>\n      <td>True</td>\n      <td>False</td>\n      <td>NaN</td>\n      <td>NaN</td>\n      <td>2020-12-12T06:41:29.844Z</td>\n      <td>NaN</td>\n    </tr>\n    <tr>\n      <th>1</th>\n      <td>2020-12-13T14:41:17.720Z</td>\n      <td>samueljoseph014@gmail.com</td>\n      <td>Samuel Joseph</td>\n      <td>NaN</td>\n      <td>35229766</td>\n      <td>Entwodiksyon Nan Syans Done</td>\n      <td>1047613</td>\n      <td>0.000000</td>\n      <td>NaN</td>\n      <td>False</td>\n      <td>True</td>\n      <td>False</td>\n      <td>NaN</td>\n      <td>NaN</td>\n      <td>2020-12-13T14:41:17.720Z</td>\n      <td>NaN</td>\n    </tr>\n    <tr>\n      <th>2</th>\n      <td>2020-12-15T00:53:06.499Z</td>\n      <td>hectorvehuel@gmail.com</td>\n      <td>Vehuel Hector</td>\n      <td>NaN</td>\n      <td>31987560</td>\n      <td>Entwodiksyon Nan Syans Done</td>\n      <td>1047613</td>\n      <td>0.000000</td>\n      <td>NaN</td>\n      <td>False</td>\n      <td>True</td>\n      <td>False</td>\n      <td>NaN</td>\n      <td>NaN</td>\n      <td>2020-12-15T00:53:06.499Z</td>\n      <td>NaN</td>\n    </tr>\n    <tr>\n      <th>3</th>\n      <td>2020-12-18T18:38:55.683Z</td>\n      <td>champagne.randy@gmail.com</td>\n      <td>Randy Champagne</td>\n      <td>NaN</td>\n      <td>35616451</td>\n      <td>Entwodiksyon Nan Syans Done</td>\n      <td>1047613</td>\n      <td>0.000000</td>\n      <td>NaN</td>\n      <td>False</td>\n      <td>True</td>\n      <td>False</td>\n      <td>NaN</td>\n      <td>NaN</td>\n      <td>2020-12-18T18:38:55.683Z</td>\n      <td>NaN</td>\n    </tr>\n    <tr>\n      <th>4</th>\n      <td>2020-12-21T14:45:06.528Z</td>\n      <td>ealexandre@anseyepouayiti.org</td>\n      <td>ALEXANDRE Emmanuel</td>\n      <td>NaN</td>\n      <td>35390649</td>\n      <td>Entwodiksyon Nan Syans Done</td>\n      <td>1047613</td>\n      <td>0.000000</td>\n      <td>NaN</td>\n      <td>False</td>\n      <td>True</td>\n      <td>False</td>\n      <td>NaN</td>\n      <td>NaN</td>\n      <td>2020-12-21T14:45:06.528Z</td>\n      <td>NaN</td>\n    </tr>\n    <tr>\n      <th>...</th>\n      <td>...</td>\n      <td>...</td>\n      <td>...</td>\n      <td>...</td>\n      <td>...</td>\n      <td>...</td>\n      <td>...</td>\n      <td>...</td>\n      <td>...</td>\n      <td>...</td>\n      <td>...</td>\n      <td>...</td>\n      <td>...</td>\n      <td>...</td>\n      <td>...</td>\n      <td>...</td>\n    </tr>\n    <tr>\n      <th>143</th>\n      <td>2021-03-14T02:16:08.736Z</td>\n      <td>pauljeffeymackenzy@gmail.com</td>\n      <td>Jeffey Mackenzy  Paul</td>\n      <td>2071-03-02T02:16:55.000Z</td>\n      <td>41508160</td>\n      <td>Entwodiksyon Nan Syans Done</td>\n      <td>1047613</td>\n      <td>0.279070</td>\n      <td>NaN</td>\n      <td>False</td>\n      <td>False</td>\n      <td>False</td>\n      <td>2021-03-14T02:18:52.472Z</td>\n      <td>2021-03-14T02:16:08.000Z</td>\n      <td>2021-03-14T03:32:18.768Z</td>\n      <td>906b65e3-ce95-11eb-a294-7c67a234f601</td>\n    </tr>\n    <tr>\n      <th>144</th>\n      <td>2021-03-14T04:20:30.803Z</td>\n      <td>ssaintlouis99@gmail.com</td>\n      <td>STANLEY SAINT LOUIS</td>\n      <td>NaN</td>\n      <td>41564742</td>\n      <td>Entwodiksyon Nan Syans Done</td>\n      <td>1047613</td>\n      <td>0.023256</td>\n      <td>NaN</td>\n      <td>False</td>\n      <td>False</td>\n      <td>False</td>\n      <td>2021-03-14T04:22:12.626Z</td>\n      <td>2021-03-14T04:20:30.786Z</td>\n      <td>2021-03-14T04:48:39.798Z</td>\n      <td>906636cf-ce95-11eb-8679-7c67a234f601</td>\n    </tr>\n    <tr>\n      <th>145</th>\n      <td>2021-03-14T07:34:09.491Z</td>\n      <td>davidlouis301@yahoo.fr</td>\n      <td>David Louis</td>\n      <td>2071-03-02T07:34:26.000Z</td>\n      <td>41569249</td>\n      <td>Entwodiksyon Nan Syans Done</td>\n      <td>1047613</td>\n      <td>0.000000</td>\n      <td>NaN</td>\n      <td>False</td>\n      <td>False</td>\n      <td>False</td>\n      <td>NaN</td>\n      <td>2021-03-14T07:34:09.000Z</td>\n      <td>2021-03-14T07:34:26.558Z</td>\n      <td>906241d5-ce95-11eb-9850-7c67a234f601</td>\n    </tr>\n    <tr>\n      <th>146</th>\n      <td>2021-03-14T15:34:39.800Z</td>\n      <td>joekasseem@gmail.com</td>\n      <td>Kasseem Joe CHERY</td>\n      <td>NaN</td>\n      <td>41587952</td>\n      <td>Entwodiksyon Nan Syans Done</td>\n      <td>1047613</td>\n      <td>0.325581</td>\n      <td>NaN</td>\n      <td>False</td>\n      <td>False</td>\n      <td>False</td>\n      <td>2021-03-14T15:34:56.007Z</td>\n      <td>2021-03-14T15:34:39.768Z</td>\n      <td>2021-03-14T17:30:53.379Z</td>\n      <td>906b3c86-ce95-11eb-b6a7-7c67a234f601</td>\n    </tr>\n    <tr>\n      <th>147</th>\n      <td>2021-03-14T17:34:44.861Z</td>\n      <td>josephobed2016@gmail.com</td>\n      <td>Obed Charlot  Joseph</td>\n      <td>2071-03-02T17:34:52.000Z</td>\n      <td>41592698</td>\n      <td>Entwodiksyon Nan Syans Done</td>\n      <td>1047613</td>\n      <td>0.046512</td>\n      <td>NaN</td>\n      <td>False</td>\n      <td>False</td>\n      <td>False</td>\n      <td>2021-03-14T17:36:13.505Z</td>\n      <td>2021-03-14T17:34:44.000Z</td>\n      <td>2021-03-14T17:39:40.547Z</td>\n      <td>NaN</td>\n    </tr>\n  </tbody>\n</table>\n<p>148 rows × 16 columns</p>\n</div>"
     },
     "metadata": {},
     "execution_count": 80
    }
   ],
   "source": []
  },
  {
   "cell_type": "code",
   "execution_count": 82,
   "metadata": {},
   "outputs": [
    {
     "output_type": "execute_result",
     "data": {
      "text/plain": [
       "                  created_at   user_id                         user_email  \\\n",
       "0   2021-03-14T15:34:35.014Z  41587952               joekasseem@gmail.com   \n",
       "1   2021-03-14T04:20:23.483Z  41564742            ssaintlouis99@gmail.com   \n",
       "2   2021-03-12T19:29:22.832Z  41501853  jeanlouisroodgessjunior@gmail.com   \n",
       "3   2021-03-12T14:23:11.154Z  40284930           pierrefredrich@gmail.com   \n",
       "4   2021-03-11T16:01:17.901Z  40281483              plvanessa86@gmail.com   \n",
       "5   2021-03-03T00:35:29.698Z  34858658          mieevens.berger@gmail.com   \n",
       "6   2021-03-01T23:34:27.375Z  40131930             moiseromuald@gmail.com   \n",
       "7   2021-02-25T15:36:26.464Z  40411976                lguerlinx@gmail.com   \n",
       "8   2021-02-25T04:45:53.407Z  40388669  manasse.michel@ayitianalytics.org   \n",
       "9   2021-02-24T21:22:15.936Z  40369133        valerypinchinat97@gmail.com   \n",
       "10  2021-02-23T15:42:17.501Z  40278060                jcphanie2@gmail.com   \n",
       "11  2021-02-22T19:16:35.371Z  39857484           jesula.bernadin@esih.edu   \n",
       "12  2021-02-20T22:59:46.749Z  40121178           bricefabienne4@gmail.com   \n",
       "13  2021-02-18T14:45:02.292Z  39908510     carlievaldayardpetit@gmail.com   \n",
       "14  2021-02-17T13:48:38.371Z  39903501        mathaus17prenelus@gmail.com   \n",
       "15  2021-02-17T11:08:54.385Z  39896120             wilkydouze73@gmail.com   \n",
       "16  2021-02-16T20:09:31.627Z  39856539               jeanothniel@yahoo.fr   \n",
       "17  2021-01-05T04:00:41.222Z  34856150              stjngermili@gmail.com   \n",
       "\n",
       "                     user_name                 product_name  product_id  \\\n",
       "0            Kasseem Joe CHERY  Entwodiksyon Nan Syans Done     1100636   \n",
       "1          STANLEY SAINT LOUIS  Entwodiksyon Nan Syans Done     1100636   \n",
       "2   Roodgess junior Jean-louis  Entwodiksyon Nan Syans Done     1100636   \n",
       "3             .Pierre Fredrich  Entwodiksyon Nan Syans Done     1100636   \n",
       "4     Josette Vanessa Plonquet  Entwodiksyon Nan Syans Done     1100636   \n",
       "5           Marie Evens Berger  Entwodiksyon Nan Syans Done     1100636   \n",
       "6                ROMUALD MOISE  Entwodiksyon Nan Syans Done     1100636   \n",
       "7             Guerlinx Laforet  Entwodiksyon Nan Syans Done     1100636   \n",
       "8              Manassé  Michel  Entwodiksyon Nan Syans Done     1100636   \n",
       "9             Valéry Pinchinat  Entwodiksyon Nan Syans Done     1100636   \n",
       "10            Joseph Stéphanie  Entwodiksyon Nan Syans Done     1100636   \n",
       "11             Jesula Bernadin  Entwodiksyon Nan Syans Done     1100636   \n",
       "12              Fabienne Brice  Entwodiksyon Nan Syans Done     1100636   \n",
       "13      Carlie Valdayard Petit  Entwodiksyon Nan Syans Done     1100636   \n",
       "14            Mathaus PRENELUS  Entwodiksyon Nan Syans Done     1100636   \n",
       "15                 Wilky Douze  Entwodiksyon Nan Syans Done     1100636   \n",
       "16                othniel jean  Entwodiksyon Nan Syans Done     1100636   \n",
       "17          Germila Saint-Jean  Entwodiksyon Nan Syans Done     1100636   \n",
       "\n",
       "    amount_dollars  amount_cents  subscription          coupon_code  \\\n",
       "0             20.0          2000         False                  NaN   \n",
       "1             20.0          2000         False                  NaN   \n",
       "2             20.0          2000         False                  NaN   \n",
       "3              0.0             0         False    impact_hub_coupon   \n",
       "4             20.0          2000         False                  NaN   \n",
       "5             20.0          2000         False                  NaN   \n",
       "6             20.0          2000         False                  NaN   \n",
       "7             20.0          2000         False                  NaN   \n",
       "8              0.0             0         False     testing_course_1   \n",
       "9              0.0             0         False  prerequisite_course   \n",
       "10            20.0          2000         False                  NaN   \n",
       "11            20.0          2000         False                  NaN   \n",
       "12            20.0          2000         False                  NaN   \n",
       "13            20.0          2000         False                  NaN   \n",
       "14            20.0          2000         False                  NaN   \n",
       "15             0.0             0         False      bootcamp_enroll   \n",
       "16            20.0          2000         False                  NaN   \n",
       "17            20.0          2000         False                  NaN   \n",
       "\n",
       "    coupon_id  affiliate_referral_code    status  \\\n",
       "0         NaN                      NaN  Complete   \n",
       "1         NaN                      NaN  Complete   \n",
       "2         NaN                      NaN  Complete   \n",
       "3   6658457.0                      NaN  Complete   \n",
       "4         NaN                      NaN  Complete   \n",
       "5         NaN                      NaN  Complete   \n",
       "6         NaN                      NaN  Complete   \n",
       "7         NaN                      NaN  Complete   \n",
       "8   6516246.0                      NaN  Complete   \n",
       "9   6513409.0                      NaN  Complete   \n",
       "10        NaN                      NaN  Complete   \n",
       "11        NaN                      NaN  Complete   \n",
       "12        NaN                      NaN  Complete   \n",
       "13        NaN                      NaN  Complete   \n",
       "14        NaN                      NaN  Complete   \n",
       "15  6452874.0                      NaN  Complete   \n",
       "16        NaN                      NaN  Complete   \n",
       "17        NaN                      NaN  Complete   \n",
       "\n",
       "                                quest_id  \n",
       "0   906b3c86-ce95-11eb-b6a7-7c67a234f601  \n",
       "1   906636cf-ce95-11eb-8679-7c67a234f601  \n",
       "2   906968f5-ce95-11eb-9e1a-7c67a234f601  \n",
       "3   9060477c-ce95-11eb-ace3-7c67a234f601  \n",
       "4   9064ff29-ce95-11eb-a3d3-7c67a234f601  \n",
       "5   9065740c-ce95-11eb-968f-7c67a234f601  \n",
       "6   906a52b7-ce95-11eb-9c4b-7c67a234f601  \n",
       "7   90617f12-ce95-11eb-a3c8-7c67a234f601  \n",
       "8                                    NaN  \n",
       "9   9061312a-ce95-11eb-ba28-7c67a234f601  \n",
       "10  9064ff28-ce95-11eb-857f-7c67a234f601  \n",
       "11  905ec1ec-ce95-11eb-8136-7c67a234f601  \n",
       "12                                   NaN  \n",
       "13  905f5dc1-ce95-11eb-bfa7-7c67a234f601  \n",
       "14                                   NaN  \n",
       "15  9062b754-ce95-11eb-b31e-7c67a234f601  \n",
       "16  9069789f-ce95-11eb-9788-7c67a234f601  \n",
       "17                                   NaN  "
      ],
      "text/html": "<div>\n<style scoped>\n    .dataframe tbody tr th:only-of-type {\n        vertical-align: middle;\n    }\n\n    .dataframe tbody tr th {\n        vertical-align: top;\n    }\n\n    .dataframe thead th {\n        text-align: right;\n    }\n</style>\n<table border=\"1\" class=\"dataframe\">\n  <thead>\n    <tr style=\"text-align: right;\">\n      <th></th>\n      <th>created_at</th>\n      <th>user_id</th>\n      <th>user_email</th>\n      <th>user_name</th>\n      <th>product_name</th>\n      <th>product_id</th>\n      <th>amount_dollars</th>\n      <th>amount_cents</th>\n      <th>subscription</th>\n      <th>coupon_code</th>\n      <th>coupon_id</th>\n      <th>affiliate_referral_code</th>\n      <th>status</th>\n      <th>quest_id</th>\n    </tr>\n  </thead>\n  <tbody>\n    <tr>\n      <th>0</th>\n      <td>2021-03-14T15:34:35.014Z</td>\n      <td>41587952</td>\n      <td>joekasseem@gmail.com</td>\n      <td>Kasseem Joe CHERY</td>\n      <td>Entwodiksyon Nan Syans Done</td>\n      <td>1100636</td>\n      <td>20.0</td>\n      <td>2000</td>\n      <td>False</td>\n      <td>NaN</td>\n      <td>NaN</td>\n      <td>NaN</td>\n      <td>Complete</td>\n      <td>906b3c86-ce95-11eb-b6a7-7c67a234f601</td>\n    </tr>\n    <tr>\n      <th>1</th>\n      <td>2021-03-14T04:20:23.483Z</td>\n      <td>41564742</td>\n      <td>ssaintlouis99@gmail.com</td>\n      <td>STANLEY SAINT LOUIS</td>\n      <td>Entwodiksyon Nan Syans Done</td>\n      <td>1100636</td>\n      <td>20.0</td>\n      <td>2000</td>\n      <td>False</td>\n      <td>NaN</td>\n      <td>NaN</td>\n      <td>NaN</td>\n      <td>Complete</td>\n      <td>906636cf-ce95-11eb-8679-7c67a234f601</td>\n    </tr>\n    <tr>\n      <th>2</th>\n      <td>2021-03-12T19:29:22.832Z</td>\n      <td>41501853</td>\n      <td>jeanlouisroodgessjunior@gmail.com</td>\n      <td>Roodgess junior Jean-louis</td>\n      <td>Entwodiksyon Nan Syans Done</td>\n      <td>1100636</td>\n      <td>20.0</td>\n      <td>2000</td>\n      <td>False</td>\n      <td>NaN</td>\n      <td>NaN</td>\n      <td>NaN</td>\n      <td>Complete</td>\n      <td>906968f5-ce95-11eb-9e1a-7c67a234f601</td>\n    </tr>\n    <tr>\n      <th>3</th>\n      <td>2021-03-12T14:23:11.154Z</td>\n      <td>40284930</td>\n      <td>pierrefredrich@gmail.com</td>\n      <td>.Pierre Fredrich</td>\n      <td>Entwodiksyon Nan Syans Done</td>\n      <td>1100636</td>\n      <td>0.0</td>\n      <td>0</td>\n      <td>False</td>\n      <td>impact_hub_coupon</td>\n      <td>6658457.0</td>\n      <td>NaN</td>\n      <td>Complete</td>\n      <td>9060477c-ce95-11eb-ace3-7c67a234f601</td>\n    </tr>\n    <tr>\n      <th>4</th>\n      <td>2021-03-11T16:01:17.901Z</td>\n      <td>40281483</td>\n      <td>plvanessa86@gmail.com</td>\n      <td>Josette Vanessa Plonquet</td>\n      <td>Entwodiksyon Nan Syans Done</td>\n      <td>1100636</td>\n      <td>20.0</td>\n      <td>2000</td>\n      <td>False</td>\n      <td>NaN</td>\n      <td>NaN</td>\n      <td>NaN</td>\n      <td>Complete</td>\n      <td>9064ff29-ce95-11eb-a3d3-7c67a234f601</td>\n    </tr>\n    <tr>\n      <th>5</th>\n      <td>2021-03-03T00:35:29.698Z</td>\n      <td>34858658</td>\n      <td>mieevens.berger@gmail.com</td>\n      <td>Marie Evens Berger</td>\n      <td>Entwodiksyon Nan Syans Done</td>\n      <td>1100636</td>\n      <td>20.0</td>\n      <td>2000</td>\n      <td>False</td>\n      <td>NaN</td>\n      <td>NaN</td>\n      <td>NaN</td>\n      <td>Complete</td>\n      <td>9065740c-ce95-11eb-968f-7c67a234f601</td>\n    </tr>\n    <tr>\n      <th>6</th>\n      <td>2021-03-01T23:34:27.375Z</td>\n      <td>40131930</td>\n      <td>moiseromuald@gmail.com</td>\n      <td>ROMUALD MOISE</td>\n      <td>Entwodiksyon Nan Syans Done</td>\n      <td>1100636</td>\n      <td>20.0</td>\n      <td>2000</td>\n      <td>False</td>\n      <td>NaN</td>\n      <td>NaN</td>\n      <td>NaN</td>\n      <td>Complete</td>\n      <td>906a52b7-ce95-11eb-9c4b-7c67a234f601</td>\n    </tr>\n    <tr>\n      <th>7</th>\n      <td>2021-02-25T15:36:26.464Z</td>\n      <td>40411976</td>\n      <td>lguerlinx@gmail.com</td>\n      <td>Guerlinx Laforet</td>\n      <td>Entwodiksyon Nan Syans Done</td>\n      <td>1100636</td>\n      <td>20.0</td>\n      <td>2000</td>\n      <td>False</td>\n      <td>NaN</td>\n      <td>NaN</td>\n      <td>NaN</td>\n      <td>Complete</td>\n      <td>90617f12-ce95-11eb-a3c8-7c67a234f601</td>\n    </tr>\n    <tr>\n      <th>8</th>\n      <td>2021-02-25T04:45:53.407Z</td>\n      <td>40388669</td>\n      <td>manasse.michel@ayitianalytics.org</td>\n      <td>Manassé  Michel</td>\n      <td>Entwodiksyon Nan Syans Done</td>\n      <td>1100636</td>\n      <td>0.0</td>\n      <td>0</td>\n      <td>False</td>\n      <td>testing_course_1</td>\n      <td>6516246.0</td>\n      <td>NaN</td>\n      <td>Complete</td>\n      <td>NaN</td>\n    </tr>\n    <tr>\n      <th>9</th>\n      <td>2021-02-24T21:22:15.936Z</td>\n      <td>40369133</td>\n      <td>valerypinchinat97@gmail.com</td>\n      <td>Valéry Pinchinat</td>\n      <td>Entwodiksyon Nan Syans Done</td>\n      <td>1100636</td>\n      <td>0.0</td>\n      <td>0</td>\n      <td>False</td>\n      <td>prerequisite_course</td>\n      <td>6513409.0</td>\n      <td>NaN</td>\n      <td>Complete</td>\n      <td>9061312a-ce95-11eb-ba28-7c67a234f601</td>\n    </tr>\n    <tr>\n      <th>10</th>\n      <td>2021-02-23T15:42:17.501Z</td>\n      <td>40278060</td>\n      <td>jcphanie2@gmail.com</td>\n      <td>Joseph Stéphanie</td>\n      <td>Entwodiksyon Nan Syans Done</td>\n      <td>1100636</td>\n      <td>20.0</td>\n      <td>2000</td>\n      <td>False</td>\n      <td>NaN</td>\n      <td>NaN</td>\n      <td>NaN</td>\n      <td>Complete</td>\n      <td>9064ff28-ce95-11eb-857f-7c67a234f601</td>\n    </tr>\n    <tr>\n      <th>11</th>\n      <td>2021-02-22T19:16:35.371Z</td>\n      <td>39857484</td>\n      <td>jesula.bernadin@esih.edu</td>\n      <td>Jesula Bernadin</td>\n      <td>Entwodiksyon Nan Syans Done</td>\n      <td>1100636</td>\n      <td>20.0</td>\n      <td>2000</td>\n      <td>False</td>\n      <td>NaN</td>\n      <td>NaN</td>\n      <td>NaN</td>\n      <td>Complete</td>\n      <td>905ec1ec-ce95-11eb-8136-7c67a234f601</td>\n    </tr>\n    <tr>\n      <th>12</th>\n      <td>2021-02-20T22:59:46.749Z</td>\n      <td>40121178</td>\n      <td>bricefabienne4@gmail.com</td>\n      <td>Fabienne Brice</td>\n      <td>Entwodiksyon Nan Syans Done</td>\n      <td>1100636</td>\n      <td>20.0</td>\n      <td>2000</td>\n      <td>False</td>\n      <td>NaN</td>\n      <td>NaN</td>\n      <td>NaN</td>\n      <td>Complete</td>\n      <td>NaN</td>\n    </tr>\n    <tr>\n      <th>13</th>\n      <td>2021-02-18T14:45:02.292Z</td>\n      <td>39908510</td>\n      <td>carlievaldayardpetit@gmail.com</td>\n      <td>Carlie Valdayard Petit</td>\n      <td>Entwodiksyon Nan Syans Done</td>\n      <td>1100636</td>\n      <td>20.0</td>\n      <td>2000</td>\n      <td>False</td>\n      <td>NaN</td>\n      <td>NaN</td>\n      <td>NaN</td>\n      <td>Complete</td>\n      <td>905f5dc1-ce95-11eb-bfa7-7c67a234f601</td>\n    </tr>\n    <tr>\n      <th>14</th>\n      <td>2021-02-17T13:48:38.371Z</td>\n      <td>39903501</td>\n      <td>mathaus17prenelus@gmail.com</td>\n      <td>Mathaus PRENELUS</td>\n      <td>Entwodiksyon Nan Syans Done</td>\n      <td>1100636</td>\n      <td>20.0</td>\n      <td>2000</td>\n      <td>False</td>\n      <td>NaN</td>\n      <td>NaN</td>\n      <td>NaN</td>\n      <td>Complete</td>\n      <td>NaN</td>\n    </tr>\n    <tr>\n      <th>15</th>\n      <td>2021-02-17T11:08:54.385Z</td>\n      <td>39896120</td>\n      <td>wilkydouze73@gmail.com</td>\n      <td>Wilky Douze</td>\n      <td>Entwodiksyon Nan Syans Done</td>\n      <td>1100636</td>\n      <td>0.0</td>\n      <td>0</td>\n      <td>False</td>\n      <td>bootcamp_enroll</td>\n      <td>6452874.0</td>\n      <td>NaN</td>\n      <td>Complete</td>\n      <td>9062b754-ce95-11eb-b31e-7c67a234f601</td>\n    </tr>\n    <tr>\n      <th>16</th>\n      <td>2021-02-16T20:09:31.627Z</td>\n      <td>39856539</td>\n      <td>jeanothniel@yahoo.fr</td>\n      <td>othniel jean</td>\n      <td>Entwodiksyon Nan Syans Done</td>\n      <td>1100636</td>\n      <td>20.0</td>\n      <td>2000</td>\n      <td>False</td>\n      <td>NaN</td>\n      <td>NaN</td>\n      <td>NaN</td>\n      <td>Complete</td>\n      <td>9069789f-ce95-11eb-9788-7c67a234f601</td>\n    </tr>\n    <tr>\n      <th>17</th>\n      <td>2021-01-05T04:00:41.222Z</td>\n      <td>34856150</td>\n      <td>stjngermili@gmail.com</td>\n      <td>Germila Saint-Jean</td>\n      <td>Entwodiksyon Nan Syans Done</td>\n      <td>1100636</td>\n      <td>20.0</td>\n      <td>2000</td>\n      <td>False</td>\n      <td>NaN</td>\n      <td>NaN</td>\n      <td>NaN</td>\n      <td>Complete</td>\n      <td>NaN</td>\n    </tr>\n  </tbody>\n</table>\n</div>"
     },
     "metadata": {},
     "execution_count": 82
    }
   ],
   "source": [
    "orders  = pd.read_csv(\"orders.csv\")\n",
    "orders = pd.merge(left=orders,right =quest[[\"quest_id\",\"email\"]],how=\"left\",left_on=\"user_email\",right_on=\"email\")\n",
    "orders = orders.drop(columns=[\"Unnamed: 0\",\"email\",\"id\"])\n",
    "orders"
   ]
  },
  {
   "cell_type": "code",
   "execution_count": 86,
   "metadata": {},
   "outputs": [
    {
     "output_type": "execute_result",
     "data": {
      "text/plain": [
       "       key            values                              quest_id\n",
       "0    other             other  905ddcf2-ce95-11eb-9a92-7c67a234f601\n",
       "1    item1  Computer Science  905e4cf5-ce95-11eb-96a9-7c67a234f601\n",
       "2    item6        Management  905e4cf5-ce95-11eb-96a9-7c67a234f601\n",
       "3    other             other  905e73fd-ce95-11eb-a7b0-7c67a234f601\n",
       "4    other             other  905e9b27-ce95-11eb-9c37-7c67a234f601\n",
       "..     ...               ...                                   ...\n",
       "282  other             other  906b3c84-ce95-11eb-8c2a-7c67a234f601\n",
       "283  item8          Medicine  906b3c85-ce95-11eb-9b87-7c67a234f601\n",
       "284  item2        Statistics  906b3c86-ce95-11eb-b6a7-7c67a234f601\n",
       "285  item1  Computer Science  906b65e2-ce95-11eb-8b5c-7c67a234f601\n",
       "286  other             other  906b65e3-ce95-11eb-a294-7c67a234f601\n",
       "\n",
       "[287 rows x 3 columns]"
      ],
      "text/html": "<div>\n<style scoped>\n    .dataframe tbody tr th:only-of-type {\n        vertical-align: middle;\n    }\n\n    .dataframe tbody tr th {\n        vertical-align: top;\n    }\n\n    .dataframe thead th {\n        text-align: right;\n    }\n</style>\n<table border=\"1\" class=\"dataframe\">\n  <thead>\n    <tr style=\"text-align: right;\">\n      <th></th>\n      <th>key</th>\n      <th>values</th>\n      <th>quest_id</th>\n    </tr>\n  </thead>\n  <tbody>\n    <tr>\n      <th>0</th>\n      <td>other</td>\n      <td>other</td>\n      <td>905ddcf2-ce95-11eb-9a92-7c67a234f601</td>\n    </tr>\n    <tr>\n      <th>1</th>\n      <td>item1</td>\n      <td>Computer Science</td>\n      <td>905e4cf5-ce95-11eb-96a9-7c67a234f601</td>\n    </tr>\n    <tr>\n      <th>2</th>\n      <td>item6</td>\n      <td>Management</td>\n      <td>905e4cf5-ce95-11eb-96a9-7c67a234f601</td>\n    </tr>\n    <tr>\n      <th>3</th>\n      <td>other</td>\n      <td>other</td>\n      <td>905e73fd-ce95-11eb-a7b0-7c67a234f601</td>\n    </tr>\n    <tr>\n      <th>4</th>\n      <td>other</td>\n      <td>other</td>\n      <td>905e9b27-ce95-11eb-9c37-7c67a234f601</td>\n    </tr>\n    <tr>\n      <th>...</th>\n      <td>...</td>\n      <td>...</td>\n      <td>...</td>\n    </tr>\n    <tr>\n      <th>282</th>\n      <td>other</td>\n      <td>other</td>\n      <td>906b3c84-ce95-11eb-8c2a-7c67a234f601</td>\n    </tr>\n    <tr>\n      <th>283</th>\n      <td>item8</td>\n      <td>Medicine</td>\n      <td>906b3c85-ce95-11eb-9b87-7c67a234f601</td>\n    </tr>\n    <tr>\n      <th>284</th>\n      <td>item2</td>\n      <td>Statistics</td>\n      <td>906b3c86-ce95-11eb-b6a7-7c67a234f601</td>\n    </tr>\n    <tr>\n      <th>285</th>\n      <td>item1</td>\n      <td>Computer Science</td>\n      <td>906b65e2-ce95-11eb-8b5c-7c67a234f601</td>\n    </tr>\n    <tr>\n      <th>286</th>\n      <td>other</td>\n      <td>other</td>\n      <td>906b65e3-ce95-11eb-a294-7c67a234f601</td>\n    </tr>\n  </tbody>\n</table>\n<p>287 rows × 3 columns</p>\n</div>"
     },
     "metadata": {},
     "execution_count": 86
    }
   ],
   "source": [
    "study_domain  = pd.read_csv(\"study_domain.csv\")\n",
    "study_domain = pd.merge(left=study_domain,right =quest[[\"quest_id\",\"email\"]],how=\"left\")\n",
    "study_domain = study_domain.drop(columns=[\"Unnamed: 0\",\"email\"])\n",
    "study_domain"
   ]
  },
  {
   "cell_type": "code",
   "execution_count": 87,
   "metadata": {},
   "outputs": [
    {
     "output_type": "execute_result",
     "data": {
      "text/plain": [
       "       key                              values  \\\n",
       "0    item1                             Finance   \n",
       "1    item6     Technology (Software/ Internet)   \n",
       "2    item5                           Education   \n",
       "3    item3                          Consulting   \n",
       "4    item7                              Energy   \n",
       "..     ...                                 ...   \n",
       "802  item4  Public Sector/ Non-Profit Agencies   \n",
       "803  item6     Technology (Software/ Internet)   \n",
       "804  item3                          Consulting   \n",
       "805  item5                           Education   \n",
       "806  item4  Public Sector/ Non-Profit Agencies   \n",
       "\n",
       "                                 quest_id  \n",
       "0    905ddcf2-ce95-11eb-9a92-7c67a234f601  \n",
       "1    905e2608-ce95-11eb-809f-7c67a234f601  \n",
       "2    905e2608-ce95-11eb-809f-7c67a234f601  \n",
       "3    905e2608-ce95-11eb-809f-7c67a234f601  \n",
       "4    905e2608-ce95-11eb-809f-7c67a234f601  \n",
       "..                                    ...  \n",
       "802  906b3c86-ce95-11eb-b6a7-7c67a234f601  \n",
       "803  906b65e2-ce95-11eb-8b5c-7c67a234f601  \n",
       "804  906b65e3-ce95-11eb-a294-7c67a234f601  \n",
       "805  906b65e3-ce95-11eb-a294-7c67a234f601  \n",
       "806  906b65e3-ce95-11eb-a294-7c67a234f601  \n",
       "\n",
       "[807 rows x 3 columns]"
      ],
      "text/html": "<div>\n<style scoped>\n    .dataframe tbody tr th:only-of-type {\n        vertical-align: middle;\n    }\n\n    .dataframe tbody tr th {\n        vertical-align: top;\n    }\n\n    .dataframe thead th {\n        text-align: right;\n    }\n</style>\n<table border=\"1\" class=\"dataframe\">\n  <thead>\n    <tr style=\"text-align: right;\">\n      <th></th>\n      <th>key</th>\n      <th>values</th>\n      <th>quest_id</th>\n    </tr>\n  </thead>\n  <tbody>\n    <tr>\n      <th>0</th>\n      <td>item1</td>\n      <td>Finance</td>\n      <td>905ddcf2-ce95-11eb-9a92-7c67a234f601</td>\n    </tr>\n    <tr>\n      <th>1</th>\n      <td>item6</td>\n      <td>Technology (Software/ Internet)</td>\n      <td>905e2608-ce95-11eb-809f-7c67a234f601</td>\n    </tr>\n    <tr>\n      <th>2</th>\n      <td>item5</td>\n      <td>Education</td>\n      <td>905e2608-ce95-11eb-809f-7c67a234f601</td>\n    </tr>\n    <tr>\n      <th>3</th>\n      <td>item3</td>\n      <td>Consulting</td>\n      <td>905e2608-ce95-11eb-809f-7c67a234f601</td>\n    </tr>\n    <tr>\n      <th>4</th>\n      <td>item7</td>\n      <td>Energy</td>\n      <td>905e2608-ce95-11eb-809f-7c67a234f601</td>\n    </tr>\n    <tr>\n      <th>...</th>\n      <td>...</td>\n      <td>...</td>\n      <td>...</td>\n    </tr>\n    <tr>\n      <th>802</th>\n      <td>item4</td>\n      <td>Public Sector/ Non-Profit Agencies</td>\n      <td>906b3c86-ce95-11eb-b6a7-7c67a234f601</td>\n    </tr>\n    <tr>\n      <th>803</th>\n      <td>item6</td>\n      <td>Technology (Software/ Internet)</td>\n      <td>906b65e2-ce95-11eb-8b5c-7c67a234f601</td>\n    </tr>\n    <tr>\n      <th>804</th>\n      <td>item3</td>\n      <td>Consulting</td>\n      <td>906b65e3-ce95-11eb-a294-7c67a234f601</td>\n    </tr>\n    <tr>\n      <th>805</th>\n      <td>item5</td>\n      <td>Education</td>\n      <td>906b65e3-ce95-11eb-a294-7c67a234f601</td>\n    </tr>\n    <tr>\n      <th>806</th>\n      <td>item4</td>\n      <td>Public Sector/ Non-Profit Agencies</td>\n      <td>906b65e3-ce95-11eb-a294-7c67a234f601</td>\n    </tr>\n  </tbody>\n</table>\n<p>807 rows × 3 columns</p>\n</div>"
     },
     "metadata": {},
     "execution_count": 87
    }
   ],
   "source": [
    "industry  = pd.read_csv(\"industry_instersed.csv\")\n",
    "industry = pd.merge(left=industry,right =quest[[\"quest_id\",\"email\"]],how=\"left\")\n",
    "industry = industry.drop(columns=[\"Unnamed: 0\",\"email\"])\n",
    "industry"
   ]
  },
  {
   "cell_type": "code",
   "execution_count": 93,
   "metadata": {},
   "outputs": [
    {
     "output_type": "execute_result",
     "data": {
      "text/plain": [
       "       key            values                              quest_id\n",
       "0    other             other  905ddcf2-ce95-11eb-9a92-7c67a234f601\n",
       "1    item1  Computer Science  905e4cf5-ce95-11eb-96a9-7c67a234f601\n",
       "2    item6        Management  905e4cf5-ce95-11eb-96a9-7c67a234f601\n",
       "3    other             other  905e73fd-ce95-11eb-a7b0-7c67a234f601\n",
       "4    other             other  905e9b27-ce95-11eb-9c37-7c67a234f601\n",
       "..     ...               ...                                   ...\n",
       "282  other             other  906b3c84-ce95-11eb-8c2a-7c67a234f601\n",
       "283  item8          Medicine  906b3c85-ce95-11eb-9b87-7c67a234f601\n",
       "284  item2        Statistics  906b3c86-ce95-11eb-b6a7-7c67a234f601\n",
       "285  item1  Computer Science  906b65e2-ce95-11eb-8b5c-7c67a234f601\n",
       "286  other             other  906b65e3-ce95-11eb-a294-7c67a234f601\n",
       "\n",
       "[287 rows x 3 columns]"
      ],
      "text/html": "<div>\n<style scoped>\n    .dataframe tbody tr th:only-of-type {\n        vertical-align: middle;\n    }\n\n    .dataframe tbody tr th {\n        vertical-align: top;\n    }\n\n    .dataframe thead th {\n        text-align: right;\n    }\n</style>\n<table border=\"1\" class=\"dataframe\">\n  <thead>\n    <tr style=\"text-align: right;\">\n      <th></th>\n      <th>key</th>\n      <th>values</th>\n      <th>quest_id</th>\n    </tr>\n  </thead>\n  <tbody>\n    <tr>\n      <th>0</th>\n      <td>other</td>\n      <td>other</td>\n      <td>905ddcf2-ce95-11eb-9a92-7c67a234f601</td>\n    </tr>\n    <tr>\n      <th>1</th>\n      <td>item1</td>\n      <td>Computer Science</td>\n      <td>905e4cf5-ce95-11eb-96a9-7c67a234f601</td>\n    </tr>\n    <tr>\n      <th>2</th>\n      <td>item6</td>\n      <td>Management</td>\n      <td>905e4cf5-ce95-11eb-96a9-7c67a234f601</td>\n    </tr>\n    <tr>\n      <th>3</th>\n      <td>other</td>\n      <td>other</td>\n      <td>905e73fd-ce95-11eb-a7b0-7c67a234f601</td>\n    </tr>\n    <tr>\n      <th>4</th>\n      <td>other</td>\n      <td>other</td>\n      <td>905e9b27-ce95-11eb-9c37-7c67a234f601</td>\n    </tr>\n    <tr>\n      <th>...</th>\n      <td>...</td>\n      <td>...</td>\n      <td>...</td>\n    </tr>\n    <tr>\n      <th>282</th>\n      <td>other</td>\n      <td>other</td>\n      <td>906b3c84-ce95-11eb-8c2a-7c67a234f601</td>\n    </tr>\n    <tr>\n      <th>283</th>\n      <td>item8</td>\n      <td>Medicine</td>\n      <td>906b3c85-ce95-11eb-9b87-7c67a234f601</td>\n    </tr>\n    <tr>\n      <th>284</th>\n      <td>item2</td>\n      <td>Statistics</td>\n      <td>906b3c86-ce95-11eb-b6a7-7c67a234f601</td>\n    </tr>\n    <tr>\n      <th>285</th>\n      <td>item1</td>\n      <td>Computer Science</td>\n      <td>906b65e2-ce95-11eb-8b5c-7c67a234f601</td>\n    </tr>\n    <tr>\n      <th>286</th>\n      <td>other</td>\n      <td>other</td>\n      <td>906b65e3-ce95-11eb-a294-7c67a234f601</td>\n    </tr>\n  </tbody>\n</table>\n<p>287 rows × 3 columns</p>\n</div>"
     },
     "metadata": {},
     "execution_count": 93
    }
   ],
   "source": [
    "study_domain  = pd.read_csv(\"study_domain.csv\")\n",
    "study_domain = pd.merge(left=study_domain,right =quest[[\"quest_id\",\"email\"]],how=\"left\")\n",
    "study_domain = study_domain.drop(columns=[\"Unnamed: 0\",\"email\"])\n",
    "study_domain"
   ]
  },
  {
   "cell_type": "code",
   "execution_count": 95,
   "metadata": {},
   "outputs": [
    {
     "output_type": "execute_result",
     "data": {
      "text/plain": [
       "        key              values                              quest_id\n",
       "0     item1                   R  905ddcf2-ce95-11eb-9a92-7c67a234f601\n",
       "1    item11               Excel  905ddcf2-ce95-11eb-9a92-7c67a234f601\n",
       "2     item2              Python  905e2608-ce95-11eb-809f-7c67a234f601\n",
       "3     item3                Java  905e2608-ce95-11eb-809f-7c67a234f601\n",
       "4     item4          JavaScript  905e2608-ce95-11eb-809f-7c67a234f601\n",
       "..      ...                 ...                                   ...\n",
       "673  item10                 SQL  906b3c86-ce95-11eb-b6a7-7c67a234f601\n",
       "674  item13  PowerBI or Tableau  906b3c86-ce95-11eb-b6a7-7c67a234f601\n",
       "675  item10                 SQL  906b65e2-ce95-11eb-8b5c-7c67a234f601\n",
       "676   item1                   R  906b65e3-ce95-11eb-a294-7c67a234f601\n",
       "677  item11               Excel  906b65e3-ce95-11eb-a294-7c67a234f601\n",
       "\n",
       "[678 rows x 3 columns]"
      ],
      "text/html": "<div>\n<style scoped>\n    .dataframe tbody tr th:only-of-type {\n        vertical-align: middle;\n    }\n\n    .dataframe tbody tr th {\n        vertical-align: top;\n    }\n\n    .dataframe thead th {\n        text-align: right;\n    }\n</style>\n<table border=\"1\" class=\"dataframe\">\n  <thead>\n    <tr style=\"text-align: right;\">\n      <th></th>\n      <th>key</th>\n      <th>values</th>\n      <th>quest_id</th>\n    </tr>\n  </thead>\n  <tbody>\n    <tr>\n      <th>0</th>\n      <td>item1</td>\n      <td>R</td>\n      <td>905ddcf2-ce95-11eb-9a92-7c67a234f601</td>\n    </tr>\n    <tr>\n      <th>1</th>\n      <td>item11</td>\n      <td>Excel</td>\n      <td>905ddcf2-ce95-11eb-9a92-7c67a234f601</td>\n    </tr>\n    <tr>\n      <th>2</th>\n      <td>item2</td>\n      <td>Python</td>\n      <td>905e2608-ce95-11eb-809f-7c67a234f601</td>\n    </tr>\n    <tr>\n      <th>3</th>\n      <td>item3</td>\n      <td>Java</td>\n      <td>905e2608-ce95-11eb-809f-7c67a234f601</td>\n    </tr>\n    <tr>\n      <th>4</th>\n      <td>item4</td>\n      <td>JavaScript</td>\n      <td>905e2608-ce95-11eb-809f-7c67a234f601</td>\n    </tr>\n    <tr>\n      <th>...</th>\n      <td>...</td>\n      <td>...</td>\n      <td>...</td>\n    </tr>\n    <tr>\n      <th>673</th>\n      <td>item10</td>\n      <td>SQL</td>\n      <td>906b3c86-ce95-11eb-b6a7-7c67a234f601</td>\n    </tr>\n    <tr>\n      <th>674</th>\n      <td>item13</td>\n      <td>PowerBI or Tableau</td>\n      <td>906b3c86-ce95-11eb-b6a7-7c67a234f601</td>\n    </tr>\n    <tr>\n      <th>675</th>\n      <td>item10</td>\n      <td>SQL</td>\n      <td>906b65e2-ce95-11eb-8b5c-7c67a234f601</td>\n    </tr>\n    <tr>\n      <th>676</th>\n      <td>item1</td>\n      <td>R</td>\n      <td>906b65e3-ce95-11eb-a294-7c67a234f601</td>\n    </tr>\n    <tr>\n      <th>677</th>\n      <td>item11</td>\n      <td>Excel</td>\n      <td>906b65e3-ce95-11eb-a294-7c67a234f601</td>\n    </tr>\n  </tbody>\n</table>\n<p>678 rows × 3 columns</p>\n</div>"
     },
     "metadata": {},
     "execution_count": 95
    }
   ],
   "source": [
    "technology  = pd.read_csv(\"tech_familiar.csv\")\n",
    "technology = pd.merge(left=technology,right =quest[[\"quest_id\",\"email\"]],how=\"left\")\n",
    "technology = technology.drop(columns=[\"Unnamed: 0\",\"email\"])\n",
    "technology"
   ]
  },
  {
   "cell_type": "code",
   "execution_count": null,
   "metadata": {},
   "outputs": [],
   "source": []
  }
 ]
}